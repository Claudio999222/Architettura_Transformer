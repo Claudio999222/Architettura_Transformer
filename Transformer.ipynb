{
 "cells": [
  {
   "cell_type": "code",
   "execution_count": 31,
   "id": "ca1b28e9-44d6-4777-89a7-5b6a96cf5db2",
   "metadata": {},
   "outputs": [],
   "source": [
    "import tensorflow as tf \n",
    "from tensorflow import keras \n",
    "from tensorflow.keras import layers\n",
    "from tensorflow.keras.optimizers import Adam\n"
   ]
  },
  {
   "cell_type": "markdown",
   "id": "f52cb876-d3c3-49d4-9e4c-f8fc75d70d9a",
   "metadata": {},
   "source": [
    "#### Inizializzo un classe che eseguira un architettura transformer composta da  :\n",
    "* Layer di Multi head attention\n",
    "* Layer Danse\n",
    "* Layer Normalization\n",
    "* Dropout"
   ]
  },
  {
   "cell_type": "code",
   "execution_count": 2,
   "id": "fa4c559f-f268-45f0-b5a4-53b0c55fc7d6",
   "metadata": {},
   "outputs": [],
   "source": [
    "class TransformerBlock(layers.Layer):\n",
    "    def __init__ (self, embed_dim, num_heads, ff_dim, rate=0.5):\n",
    "        super(TransformerBlock, self).__init__()\n",
    "        self.att = layers.MultiHeadAttention(num_heads=num_heads, key_dim = embed_dim)\n",
    "        self.ffn = keras.Sequential(\n",
    "            [layers.Dense(ff_dim, activation = 'relu'), layers.Dense(embed_dim),]\n",
    "        )\n",
    "        self.layernorm1 = layers.LayerNormalization(epsilon=1e-8)\n",
    "        self.layernorm2 = layers.LayerNormalization(epsilon=1e-8)\n",
    "        self.dropout1 = layers.Dropout(rate)\n",
    "        self.dropout2 = layers.Dropout(rate)\n",
    "\n",
    "    def call(self, inputs, training):\n",
    "        attn_output = self.att(inputs, inputs)\n",
    "        attn_output = self.dropout1(attn_output, training= training)\n",
    "        out1= self.layernorm1(inputs + attn_output)\n",
    "        ffn_output = self.ffn(out1)\n",
    "        ffn_output = self.dropout2(ffn_output, training = training)\n",
    "        return self.layernorm2(out1 + ffn_output)"
   ]
  },
  {
   "cell_type": "markdown",
   "id": "087b24ec-3927-4d77-9c84-556e683c2fb1",
   "metadata": {},
   "source": [
    "#### Inizializzo una classe di Embedding che definira le correlazioni piu forti fra le parole all'interno delle frasi "
   ]
  },
  {
   "cell_type": "code",
   "execution_count": 3,
   "id": "95b9fd11-266f-46da-8f49-76acdd019fce",
   "metadata": {},
   "outputs": [],
   "source": [
    "class TokenAndPositionEmbedding(layers.Layer):\n",
    "    def __init__(self, maxlen, vocab_size, embed_dim):\n",
    "        super(TokenAndPositionEmbedding, self).__init__()\n",
    "        self.token_emb = layers.Embedding(input_dim = vocab_size, output_dim= embed_dim)\n",
    "        self.pos_emb = layers.Embedding(input_dim= maxlen, output_dim = embed_dim)\n",
    "\n",
    "    def call(self, x):\n",
    "        maxlen = tf.shape(x)[-1]\n",
    "        positions = tf.range(start=0, limit=maxlen, delta=1)\n",
    "        positions= self.pos_emb(positions)\n",
    "        x = self.token_emb(x)\n",
    "        return x + positions"
   ]
  },
  {
   "cell_type": "markdown",
   "id": "36dfcec8-df36-4c53-abe4-346224c210e7",
   "metadata": {},
   "source": [
    "#### Importo il dataset e eseguo un padding per ottenere la stessa lunghezza per tutte le features "
   ]
  },
  {
   "cell_type": "code",
   "execution_count": 4,
   "id": "81272799-11b3-4e0a-ae44-2e2644c50f70",
   "metadata": {},
   "outputs": [
    {
     "name": "stdout",
     "output_type": "stream",
     "text": [
      "25000\n",
      "25000\n"
     ]
    }
   ],
   "source": [
    "vocab_size = 20000\n",
    "maxlen = 200 \n",
    "(x_train, y_train), (x_test, y_test) = keras.datasets.imdb.load_data(num_words=vocab_size)\n",
    "print(len(x_train))\n",
    "print(len(x_test))\n",
    "\n",
    "x_train = keras.preprocessing.sequence.pad_sequences(x_train, maxlen=maxlen)\n",
    "x_test = keras.preprocessing.sequence.pad_sequences(x_test, maxlen=maxlen)"
   ]
  },
  {
   "cell_type": "markdown",
   "id": "eb33e87f-0cd4-486c-99c7-06b376ec06fc",
   "metadata": {},
   "source": [
    "#### Scrivo l'architettura del modello inserendo anche le funzioni create prima lo compilo e lo addestro"
   ]
  },
  {
   "cell_type": "code",
   "execution_count": 5,
   "id": "74073252-cf3f-4539-895b-d6185bf946b0",
   "metadata": {},
   "outputs": [],
   "source": [
    "embed_dim = 32\n",
    "num_heads = 8\n",
    "ff_dim = 16 \n",
    "\n",
    "inputs = layers.Input(shape=(maxlen,))\n",
    "x = TokenAndPositionEmbedding(maxlen, vocab_size, embed_dim)(inputs)\n",
    "x = TransformerBlock(embed_dim, num_heads, ff_dim)(x)\n",
    "x = layers.GlobalAveragePooling1D()(x)\n",
    "x = layers.Dropout(0.5)(x)\n",
    "x = layers.Dense(ff_dim, activation='relu')(x)\n",
    "x = layers.Dropout(0.5)(x)\n",
    "outputs = layers.Dense(2, activation = 'softmax')(x)\n",
    "\n",
    "model = keras.Model(inputs=inputs, outputs= outputs)"
   ]
  },
  {
   "cell_type": "code",
   "execution_count": 6,
   "id": "f2e23866-4615-4b03-b5ef-41458f17fe4c",
   "metadata": {},
   "outputs": [
    {
     "name": "stdout",
     "output_type": "stream",
     "text": [
      "Model: \"model\"\n",
      "_________________________________________________________________\n",
      " Layer (type)                Output Shape              Param #   \n",
      "=================================================================\n",
      " input_1 (InputLayer)        [(None, 200)]             0         \n",
      "                                                                 \n",
      " token_and_position_embeddi  (None, 200, 32)           646400    \n",
      " ng (TokenAndPositionEmbedd                                      \n",
      " ing)                                                            \n",
      "                                                                 \n",
      " transformer_block (Transfo  (None, 200, 32)           34768     \n",
      " rmerBlock)                                                      \n",
      "                                                                 \n",
      " global_average_pooling1d (  (None, 32)                0         \n",
      " GlobalAveragePooling1D)                                         \n",
      "                                                                 \n",
      " dropout_2 (Dropout)         (None, 32)                0         \n",
      "                                                                 \n",
      " dense_2 (Dense)             (None, 16)                528       \n",
      "                                                                 \n",
      " dropout_3 (Dropout)         (None, 16)                0         \n",
      "                                                                 \n",
      " dense_3 (Dense)             (None, 2)                 34        \n",
      "                                                                 \n",
      "=================================================================\n",
      "Total params: 681730 (2.60 MB)\n",
      "Trainable params: 681730 (2.60 MB)\n",
      "Non-trainable params: 0 (0.00 Byte)\n",
      "_________________________________________________________________\n"
     ]
    }
   ],
   "source": [
    "model.summary()"
   ]
  },
  {
   "cell_type": "code",
   "execution_count": 22,
   "id": "9affecdd-5b99-4989-8b65-47beb009461d",
   "metadata": {},
   "outputs": [],
   "source": [
    "model.compile(optimizer = Adam(learning_rate=0.001) , loss='sparse_categorical_crossentropy', metrics=['accuracy'])"
   ]
  },
  {
   "cell_type": "code",
   "execution_count": 28,
   "id": "436b39a1-5f6d-4735-80a4-752e2a0bd3a6",
   "metadata": {},
   "outputs": [
    {
     "name": "stdout",
     "output_type": "stream",
     "text": [
      "Epoch 1/5\n",
      "50/50 [==============================] - 314s 6s/step - loss: 0.6873 - accuracy: 0.5366 - val_loss: 0.5741 - val_accuracy: 0.7347\n",
      "Epoch 2/5\n",
      "50/50 [==============================] - 302s 6s/step - loss: 0.4262 - accuracy: 0.8136 - val_loss: 0.3053 - val_accuracy: 0.8710\n",
      "Epoch 3/5\n",
      "50/50 [==============================] - 344s 7s/step - loss: 0.2677 - accuracy: 0.9064 - val_loss: 0.3859 - val_accuracy: 0.8536\n",
      "Epoch 4/5\n",
      "50/50 [==============================] - 343s 7s/step - loss: 0.1895 - accuracy: 0.9397 - val_loss: 0.3650 - val_accuracy: 0.8720\n",
      "Epoch 5/5\n",
      "50/50 [==============================] - 341s 7s/step - loss: 0.1340 - accuracy: 0.9626 - val_loss: 0.4781 - val_accuracy: 0.8615\n"
     ]
    }
   ],
   "source": [
    "history = model.fit(\n",
    "    x_train,\n",
    "    y_train,\n",
    "    batch_size = 500,\n",
    "    epochs= 5,\n",
    "    validation_data = (x_test, y_test)\n",
    ")"
   ]
  },
  {
   "cell_type": "markdown",
   "id": "2eecaad8-2e2b-45ed-9f57-ee0889e2b80d",
   "metadata": {},
   "source": [
    "#### Vedo i risultati dell'addestramento "
   ]
  },
  {
   "cell_type": "code",
   "execution_count": 30,
   "id": "67d802ad-43c2-4c94-8485-187f7ad702d7",
   "metadata": {},
   "outputs": [
    {
     "name": "stdout",
     "output_type": "stream",
     "text": [
      "782/782 [==============================] - 111s 141ms/step - loss: 0.4781 - accuracy: 0.8615\n"
     ]
    },
    {
     "data": {
      "text/plain": [
       "[0.47808706760406494, 0.861519992351532]"
      ]
     },
     "execution_count": 30,
     "metadata": {},
     "output_type": "execute_result"
    }
   ],
   "source": [
    "model.evaluate(x_test, y_test)"
   ]
  },
  {
   "cell_type": "code",
   "execution_count": null,
   "id": "5603666e-a3f0-4bed-88ba-cf6186002c18",
   "metadata": {},
   "outputs": [],
   "source": []
  }
 ],
 "metadata": {
  "kernelspec": {
   "display_name": "Python 3 (ipykernel)",
   "language": "python",
   "name": "python3"
  },
  "language_info": {
   "codemirror_mode": {
    "name": "ipython",
    "version": 3
   },
   "file_extension": ".py",
   "mimetype": "text/x-python",
   "name": "python",
   "nbconvert_exporter": "python",
   "pygments_lexer": "ipython3",
   "version": "3.8.0"
  }
 },
 "nbformat": 4,
 "nbformat_minor": 5
}
